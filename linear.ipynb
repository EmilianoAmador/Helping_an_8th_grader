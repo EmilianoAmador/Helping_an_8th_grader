{
 "cells": [
  {
   "cell_type": "code",
   "execution_count": 5,
   "metadata": {},
   "outputs": [],
   "source": [
    "def point_maker(x, y):\n",
    "    \"\"\" Groups x and y values into a point, technically a tuple \"\"\"\n",
    "    return x, y"
   ]
  },
  {
   "cell_type": "code",
   "execution_count": 6,
   "metadata": {},
   "outputs": [
    {
     "name": "stdin",
     "output_type": "stream",
     "text": [
      "Enter first x:  12\n",
      "Enter first y:  36\n"
     ]
    },
    {
     "name": "stdout",
     "output_type": "stream",
     "text": [
      "First point: (12, 36)\n"
     ]
    },
    {
     "name": "stdin",
     "output_type": "stream",
     "text": [
      "Enter second x:  18\n",
      "Enter second y:  6\n"
     ]
    },
    {
     "name": "stdout",
     "output_type": "stream",
     "text": [
      "Second point: (18, 6)\n",
      "\n",
      "\n",
      "The slope between point (12, 36) and point (18, 6) is: m = -5.0\n",
      "\n",
      "\n",
      "The y-intercept form of the line between (12, 36) and (18, 6), using point a, is: y = -5.0X + 96.0\n",
      "\n",
      "\n",
      "The slope-intercept form of the line between 12 and 36, using point a, is: y - 12 = -5.0(X - 36)\n"
     ]
    }
   ],
   "source": [
    "\n",
    "while True:\n",
    "    try:\n",
    "        x0 = int(input(\"Enter first x: \"))\n",
    "        break\n",
    "    except ValueError:\n",
    "        print(\"Oops!  That was no valid number.  Try again...\")\n",
    "        \n",
    "while True:    \n",
    "    try:\n",
    "        y0 = int(input(\"Enter first y: \"))\n",
    "        print(f'First point: (%s, %s)' %(x0, y0))\n",
    "        break\n",
    "    except ValueError:\n",
    "         print(\"Oops!  That was no valid number.  Try again...\")\n",
    "\n",
    "while True: \n",
    "    try:\n",
    "        x1 = int(input(\"Enter second x: \"))\n",
    "        break\n",
    "    except ValueError:\n",
    "         print(\"Oops!  That was no valid number.  Try again...\")\n",
    "\n",
    "while True:             \n",
    "    try:\n",
    "        y1 = int(input(\"Enter second y: \"))\n",
    "        print(f'Second point: (%s, %s)' %(x1, y1))\n",
    "        break\n",
    "    except ValueError:\n",
    "        print(\"Oops!  That was no valid graphing point.  Try again...\")\n",
    "point_1 = point_maker(x0, y0)\n",
    "point_2 = point_maker(x1, y1)\n",
    "\n",
    "def calculate_slope(point_a, point_b):\n",
    "    \"\"\" Calculates the linear slope between two points \"\"\"\n",
    "    return round((point_b[1] - point_a[1])/(point_b[0] - point_a[0]), 2)\n",
    "\n",
    "def y_intercept(a, b):\n",
    "    \"\"\" Calculates the y intercept of a line \"\"\"\n",
    "    return round((b - (calculate_slope(point_1, point_2) * a)), 2)\n",
    "print(\"\\n\")\n",
    "print (\"The slope between point {0} and point {1} is: m = {2}\".format(point_1, point_2, calculate_slope(point_1, point_2)))\n",
    "print(\"\\n\")\n",
    "print (\"The y-intercept form of the line between {0} and {1}, using point a, is: y = {2}X + {3}\".format(point_1, point_2, calculate_slope(point_1, point_2), y_intercept(x0, y0)))\n",
    "print(\"\\n\")\n",
    "print (\"The slope-intercept form of the line between {0} and {1}, using point a, is: y - {0} = {2}(X - {1})\".format(point_1[0], point_1[1], calculate_slope(point_1, point_2)))        "
   ]
  },
  {
   "cell_type": "code",
   "execution_count": 7,
   "metadata": {},
   "outputs": [
    {
     "name": "stdout",
     "output_type": "stream",
     "text": [
      "y = -5.0X + 96.0\n"
     ]
    }
   ],
   "source": [
    "print('y = {0}X + {1}'.format(calculate_slope(point_1, point_2), y_intercept(x0, y0)))"
   ]
  },
  {
   "cell_type": "code",
   "execution_count": null,
   "metadata": {},
   "outputs": [],
   "source": []
  }
 ],
 "metadata": {
  "kernelspec": {
   "display_name": "Python 3",
   "language": "python",
   "name": "python3"
  },
  "language_info": {
   "codemirror_mode": {
    "name": "ipython",
    "version": 3
   },
   "file_extension": ".py",
   "mimetype": "text/x-python",
   "name": "python",
   "nbconvert_exporter": "python",
   "pygments_lexer": "ipython3",
   "version": "3.7.4"
  }
 },
 "nbformat": 4,
 "nbformat_minor": 4
}
